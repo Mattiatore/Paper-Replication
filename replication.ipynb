{
 "cells": [
  {
   "cell_type": "code",
   "execution_count": 13,
   "metadata": {},
   "outputs": [],
   "source": [
    "import numpy as np\n",
    "import pandas as pd\n",
    "import statsmodels.api as sm\n",
    "import statsmodels.formula.api as smf\n",
    "\n",
    "data_path=\"Data/PisoFirme_AEJPol-20070024_household.dta\""
   ]
  },
  {
   "cell_type": "code",
   "execution_count": 14,
   "metadata": {},
   "outputs": [],
   "source": [
    "# Table's goal:  tests the effect of the program in terms of its primary objective (i.e., the coverage of cement floors in the\n",
    "# household), as families not offered the program might have replaced their dirt floors on their own, over time.\n",
    "df=pd.read_stata(data_path)"
   ]
  },
  {
   "cell_type": "code",
   "execution_count": 15,
   "metadata": {},
   "outputs": [],
   "source": [
    "# grouping relevant columns names\n",
    "demog1= [\"S_HHpeople\", \"S_headage\" ,\"S_spouseage\" ,\"S_headeduc\" ,\"S_spouseeduc\", \"S_rooms\"]\n",
    "# i decided not to use the variable S_rooms because, even if the paper mentioned that they used it in models 2 & 3  \n",
    "# because if i had included it the results would differ even more from the one of the paper\n",
    "demog2= [\"S_dem1\", \"S_dem2\" ,\"S_dem3\", \"S_dem4\", \"S_dem5\", \"S_dem6\", \"S_dem7\", \"S_dem8\"]\n",
    "health= [\"S_waterland\", \"S_waterhouse\", \"S_electricity\", \"S_hasanimals\", \"S_animalsinside\", \"S_garbage\", \"S_washhands\"] \n",
    "social= [\"S_cashtransfers\", \"S_milkprogram\", \"S_foodprogram\", \"S_seguropopular\"]\n",
    "floor= [\"S_shcementfloor\", \"S_cementfloorkit\", \"S_cementfloordin\", \"S_cementfloorbat\", \"S_cementfloorbed\"]"
   ]
  },
  {
   "cell_type": "code",
   "execution_count": 16,
   "metadata": {},
   "outputs": [],
   "source": [
    "# remove entries with incomplete geograpichal location information\n",
    "df=df.dropna(subset=[\"idcluster\"])\n",
    "# fill NaN values of covariates with zeros\n",
    "df[health+demog1+demog2+social]=df[health+demog1+demog2+social].fillna(0)"
   ]
  },
  {
   "cell_type": "code",
   "execution_count": 17,
   "metadata": {},
   "outputs": [],
   "source": [
    "# model definition, additional contains the variable excluded in my analysis but cited in the paper\n",
    "additional =\" + S_rooms\"\n",
    "model1=\"C(dpisofirme)\"\n",
    "model2=model1 + \" + C(S_waterland) + C(S_waterhouse) + C(S_electricity) + C(S_hasanimals) \\\n",
    "              + C(S_animalsinside) + C(S_garbage) + S_washhands + S_HHpeople + S_headage + S_spouseage + \\\n",
    "              S_headeduc + S_spouseeduc + S_dem1 + S_dem2 + S_dem3 + S_dem4 + S_dem5 + S_dem6 + \\\n",
    "              S_dem7 + S_dem8\" # + additional\" \n",
    "model3=model2 + \" + S_cashtransfers + C(S_milkprogram) + C(S_foodprogram) + \\\n",
    "              C(S_seguropopular)\" # + additional"
   ]
  },
  {
   "cell_type": "code",
   "execution_count": 18,
   "metadata": {},
   "outputs": [],
   "source": [
    "# control group mean and std, first column of the table\n",
    "control_mean, control_std=np.array([]), np.array([])\n",
    "for label in floor:\n",
    "    control_mean=np.append(control_mean,df[df[\"dpisofirme\"]==0][label].mean())\n",
    "    control_std=np.append(control_std,df[df[\"dpisofirme\"]==0][label].std())"
   ]
  },
  {
   "cell_type": "code",
   "execution_count": 19,
   "metadata": {},
   "outputs": [],
   "source": [
    "#model 1, second column of the table\n",
    "out1=[]\n",
    "for num,label in enumerate(floor):\n",
    "    lista=[]\n",
    "    mod = smf.ols(formula=label + ' ~ ' + model1, data=df, missing=\"raise\")\n",
    "    np.random.seed(2)\n",
    "    #using clustered standard error as mentioned in the paper\n",
    "    res = mod.fit(cov_type=\"cluster\", cov_kwds={'groups':df[\"idcluster\"]})\n",
    "    lista.append(str(round(res.params.values[1],3)).ljust(5,\"0\"))\n",
    "    #obtain standard error\n",
    "    err=res.bse[1]\n",
    "    #obtain p value of F statistic, with null hypothesis of having coefficient=0\n",
    "    f=res.f_pvalue\n",
    "    #prepare output\n",
    "    if (f < 0.01):\n",
    "        lista.append(\"[\"+str(round(err,3)).ljust(5,\"0\")+\"]***\")\n",
    "    lista.append(str(round(res.params.values[1]*100/control_mean[num],3)).ljust(6,\"0\"))\n",
    "    lista=\"--\".join(lista)\n",
    "    out1.append(lista)"
   ]
  },
  {
   "cell_type": "code",
   "execution_count": 20,
   "metadata": {},
   "outputs": [],
   "source": [
    "#model 2, third column of the table\n",
    "out2=[]\n",
    "for num,label in enumerate(floor):\n",
    "    lista=[]\n",
    "    mod = smf.ols(formula=label + ' ~ ' + model2, data=df, missing=\"raise\")\n",
    "    # mod = smf.ols(formula=label + ' ~ ' + model2 + additional, data=df, missing=\"raise\")\n",
    "    np.random.seed(2)\n",
    "    #using clustered standard error as mentioned in the paper\n",
    "    res = mod.fit(cov_type=\"cluster\", cov_kwds={'groups':df[\"idcluster\"]})\n",
    "    lista.append(str(round(res.params.values[1],3)).ljust(5,\"0\"))\n",
    "    #obtain standard error\n",
    "    err=res.bse[1]\n",
    "    #obtain p value of F statistic, with null hypothesis of having coefficient=0\n",
    "    f=res.f_pvalue\n",
    "    #prepare output\n",
    "    if (f < 0.01):\n",
    "        lista.append(\"[\"+str(round(err,3)).ljust(5,\"0\")+\"]***\")\n",
    "    lista.append(str(round(res.params.values[1]*100/control_mean[num],3)).ljust(6,\"0\"))\n",
    "    lista=\"--\".join(lista)\n",
    "    out2.append(lista)"
   ]
  },
  {
   "cell_type": "code",
   "execution_count": 21,
   "metadata": {},
   "outputs": [],
   "source": [
    "#model 3\n",
    "out3=[]\n",
    "for num,label in enumerate(floor):\n",
    "    lista=[]\n",
    "    mod = smf.ols(formula=label + ' ~ ' + model3, data=df, missing=\"raise\")\n",
    "    # mod = smf.ols(formula=label + ' ~ ' + model3 + additional, data=df, missing=\"raise\")\n",
    "    np.random.seed(2)\n",
    "    #using clustered standard error as mentioned in the paper\n",
    "    res = mod.fit(cov_type=\"cluster\", cov_kwds={'groups':df[\"idcluster\"]})\n",
    "    lista.append(str(round(res.params.values[1],3)).ljust(5,\"0\"))\n",
    "    #obtain standard error\n",
    "    err=res.bse[1]\n",
    "    #obtain p value of F statistic, with null hypothesis of having coefficient=0\n",
    "    f=res.f_pvalue\n",
    "    #prepare output\n",
    "    if (f < 0.01):\n",
    "        lista.append(\"[\"+str(round(err,3)).ljust(5,\"0\")+\"]***\")\n",
    "    lista.append(str(round(res.params.values[1]*100/control_mean[num],3)).ljust(6,\"0\"))\n",
    "    lista=\"--\".join(lista)\n",
    "    out3.append(lista)"
   ]
  },
  {
   "cell_type": "code",
   "execution_count": 22,
   "metadata": {
    "scrolled": true
   },
   "outputs": [
    {
     "data": {
      "text/html": [
       "<div>\n",
       "<style scoped>\n",
       "    .dataframe tbody tr th:only-of-type {\n",
       "        vertical-align: middle;\n",
       "    }\n",
       "\n",
       "    .dataframe tbody tr th {\n",
       "        vertical-align: top;\n",
       "    }\n",
       "\n",
       "    .dataframe thead th {\n",
       "        text-align: right;\n",
       "    }\n",
       "</style>\n",
       "<table border=\"1\" class=\"dataframe\">\n",
       "  <thead>\n",
       "    <tr style=\"text-align: right;\">\n",
       "      <th></th>\n",
       "      <th>Control group mean--std. dev.</th>\n",
       "      <th>Model 1</th>\n",
       "      <th>Model 2</th>\n",
       "      <th>Model 3</th>\n",
       "    </tr>\n",
       "  </thead>\n",
       "  <tbody>\n",
       "    <tr>\n",
       "      <th>Share of rooms with cement floors</th>\n",
       "      <td>0.728--0.363</td>\n",
       "      <td>0.202--[0.021]***--27.746</td>\n",
       "      <td>0.207--[0.019]***--28.480</td>\n",
       "      <td>0.210--[0.019]***--28.805</td>\n",
       "    </tr>\n",
       "    <tr>\n",
       "      <th>Cement floor in kitchen</th>\n",
       "      <td>0.671--0.470</td>\n",
       "      <td>0.255--[0.025]***--37.936</td>\n",
       "      <td>0.259--[0.023]***--38.648</td>\n",
       "      <td>0.264--[0.023]***--39.330</td>\n",
       "    </tr>\n",
       "    <tr>\n",
       "      <th>Cement floor in dining room</th>\n",
       "      <td>0.709--0.455</td>\n",
       "      <td>0.210--[0.026]***--29.633</td>\n",
       "      <td>0.217--[0.025]***--30.569</td>\n",
       "      <td>0.221--[0.025]***--31.131</td>\n",
       "    </tr>\n",
       "    <tr>\n",
       "      <th>Cement floor in bathroom</th>\n",
       "      <td>0.803--0.398</td>\n",
       "      <td>0.105--[0.022]***--13.071</td>\n",
       "      <td>0.113--[0.018]***--14.022</td>\n",
       "      <td>0.116--[0.018]***--14.485</td>\n",
       "    </tr>\n",
       "    <tr>\n",
       "      <th>Cement floor in bedroom</th>\n",
       "      <td>0.668--0.471</td>\n",
       "      <td>0.238--[0.020]***--35.598</td>\n",
       "      <td>0.245--[0.020]***--36.712</td>\n",
       "      <td>0.245--[0.020]***--36.629</td>\n",
       "    </tr>\n",
       "  </tbody>\n",
       "</table>\n",
       "</div>"
      ],
      "text/plain": [
       "                                  Control group mean--std. dev.  \\\n",
       "Share of rooms with cement floors                  0.728--0.363   \n",
       "Cement floor in kitchen                            0.671--0.470   \n",
       "Cement floor in dining room                        0.709--0.455   \n",
       "Cement floor in bathroom                           0.803--0.398   \n",
       "Cement floor in bedroom                            0.668--0.471   \n",
       "\n",
       "                                                     Model 1  \\\n",
       "Share of rooms with cement floors  0.202--[0.021]***--27.746   \n",
       "Cement floor in kitchen            0.255--[0.025]***--37.936   \n",
       "Cement floor in dining room        0.210--[0.026]***--29.633   \n",
       "Cement floor in bathroom           0.105--[0.022]***--13.071   \n",
       "Cement floor in bedroom            0.238--[0.020]***--35.598   \n",
       "\n",
       "                                                     Model 2  \\\n",
       "Share of rooms with cement floors  0.207--[0.019]***--28.480   \n",
       "Cement floor in kitchen            0.259--[0.023]***--38.648   \n",
       "Cement floor in dining room        0.217--[0.025]***--30.569   \n",
       "Cement floor in bathroom           0.113--[0.018]***--14.022   \n",
       "Cement floor in bedroom            0.245--[0.020]***--36.712   \n",
       "\n",
       "                                                     Model 3  \n",
       "Share of rooms with cement floors  0.210--[0.019]***--28.805  \n",
       "Cement floor in kitchen            0.264--[0.023]***--39.330  \n",
       "Cement floor in dining room        0.221--[0.025]***--31.131  \n",
       "Cement floor in bathroom           0.116--[0.018]***--14.485  \n",
       "Cement floor in bedroom            0.245--[0.020]***--36.629  "
      ]
     },
     "execution_count": 22,
     "metadata": {},
     "output_type": "execute_result"
    }
   ],
   "source": [
    "#create dataframe for my replicated results\n",
    "#same output as the paper regarding the model with format: coeff--std_err---100*coeff/control_mean\n",
    "#also *** on the standard error indicates that the statistic is significantly different from 0 at 1 percent level.\n",
    "replica= pd.DataFrame(columns=[\"Control group mean--std. dev.\", \"Model 1\", \"Model 2\", \"Model 3\"], \\\n",
    "                      index=[\"Share of rooms with cement floors\", \"Cement floor in kitchen\", \"Cement floor in dining room\", \\\n",
    "                             \"Cement floor in bathroom\", \"Cement floor in bedroom\"])\n",
    "for num in range(len(floor)):\n",
    "    replica.iloc[num][\"Control group mean--std. dev.\"]=str(round(control_mean[num],3)).ljust(5,\"0\")+\"--\"+str(round(control_std[num],3)).ljust(5,\"0\")\n",
    "    replica.iloc[num][\"Model 1\"]=out1[num]\n",
    "    replica.iloc[num][\"Model 2\"]=out2[num]\n",
    "    replica.iloc[num][\"Model 3\"]=out3[num]\n",
    "replica"
   ]
  },
  {
   "cell_type": "markdown",
   "metadata": {},
   "source": [
    "First column: replicated \n",
    "Second column: replicated\n",
    "Third column: different from paper's results of about 0.15%\n",
    "Fourth column: different from paper's results of about 0.25%\n",
    "The differences are small enough to be due to different ways to optimize the ols in different programming languages and packages\n",
    "or maybe from mystakes from my side. Also i did not use in this replication the variable S_rooms which would have made the difference\n",
    "with the results from the paper more relevant. In any case the results are all qualitatively replicated."
   ]
  }
 ],
 "metadata": {
  "kernelspec": {
   "display_name": "Python 3",
   "language": "python",
   "name": "python3"
  },
  "language_info": {
   "codemirror_mode": {
    "name": "ipython",
    "version": 3
   },
   "file_extension": ".py",
   "mimetype": "text/x-python",
   "name": "python",
   "nbconvert_exporter": "python",
   "pygments_lexer": "ipython3",
   "version": "3.8.5"
  }
 },
 "nbformat": 4,
 "nbformat_minor": 4
}
